{
 "cells": [
  {
   "cell_type": "code",
   "execution_count": 1,
   "metadata": {},
   "outputs": [],
   "source": [
    "%config IPCompleter.greedy=True"
   ]
  },
  {
   "cell_type": "code",
   "execution_count": 2,
   "metadata": {},
   "outputs": [],
   "source": [
    "import numpy as np"
   ]
  },
  {
   "cell_type": "code",
   "execution_count": 3,
   "metadata": {},
   "outputs": [],
   "source": [
    "import sys\n",
    "import os\n",
    "from importlib import reload\n",
    "import Effects\n",
    "import heros_list\n",
    "reload(Effects)\n",
    "reload(heros_list)\n",
    "from heros_list import Juno"
   ]
  },
  {
   "cell_type": "code",
   "execution_count": 4,
   "metadata": {},
   "outputs": [],
   "source": [
    "effect = Effects.SlowDown()\n",
    "new_juno = Juno()"
   ]
  },
  {
   "cell_type": "code",
   "execution_count": 5,
   "metadata": {},
   "outputs": [
    {
     "name": "stdout",
     "output_type": "stream",
     "text": [
      "Change speed in slow down\n"
     ]
    }
   ],
   "source": [
    "effect.apply_effect(new_juno)"
   ]
  },
  {
   "cell_type": "code",
   "execution_count": 6,
   "metadata": {},
   "outputs": [
    {
     "data": {
      "text/plain": [
       "'Juno'"
      ]
     },
     "execution_count": 6,
     "metadata": {},
     "output_type": "execute_result"
    }
   ],
   "source": [
    "type(new_juno).__name__"
   ]
  },
  {
   "cell_type": "code",
   "execution_count": 7,
   "metadata": {},
   "outputs": [],
   "source": [
    "import sys, inspect"
   ]
  },
  {
   "cell_type": "code",
   "execution_count": 8,
   "metadata": {},
   "outputs": [
    {
     "data": {
      "text/plain": [
       "'Effects'"
      ]
     },
     "execution_count": 8,
     "metadata": {},
     "output_type": "execute_result"
    }
   ],
   "source": [
    "Effects.__name__"
   ]
  },
  {
   "cell_type": "code",
   "execution_count": 11,
   "metadata": {},
   "outputs": [
    {
     "name": "stdout",
     "output_type": "stream",
     "text": [
      "<class 'Effects.IncreaseAttack'>\n",
      "Change attack in increase attack\n",
      "21\n",
      "<class 'Effects.IncreaseDefense'>\n",
      "Change defense in increase defense\n",
      "40\n",
      "<class 'Effects.RegenerateHP'>\n",
      "Change HP in Regenerate HP\n",
      "15\n",
      "<class 'Effects.SlowDown'>\n",
      "Change speed in slow down\n",
      "30\n"
     ]
    }
   ],
   "source": [
    "for name, obj in inspect.getmembers(Effects):\n",
    "    if inspect.isclass(obj):\n",
    "        #print(obj)\n",
    "        \n",
    "        if obj.__bases__[0].__name__ == 'Effect':\n",
    "            print(obj)\n",
    "            x = obj()\n",
    "            x.apply_effect(new_juno)\n",
    "            print(x.countdown)"
   ]
  },
  {
   "cell_type": "code",
   "execution_count": null,
   "metadata": {},
   "outputs": [],
   "source": []
  }
 ],
 "metadata": {
  "kernelspec": {
   "display_name": "Python 3",
   "language": "python",
   "name": "python3"
  },
  "language_info": {
   "codemirror_mode": {
    "name": "ipython",
    "version": 3
   },
   "file_extension": ".py",
   "mimetype": "text/x-python",
   "name": "python",
   "nbconvert_exporter": "python",
   "pygments_lexer": "ipython3",
   "version": "3.7.3"
  }
 },
 "nbformat": 4,
 "nbformat_minor": 2
}
